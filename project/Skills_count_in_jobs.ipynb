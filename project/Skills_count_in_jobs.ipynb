{
 "cells": [
  {
   "cell_type": "code",
   "execution_count": 1,
   "metadata": {},
   "outputs": [
    {
     "name": "stderr",
     "output_type": "stream",
     "text": [
      "Using the latest cached version of the dataset since lukebarousse/data_jobs couldn't be found on the Hugging Face Hub\n",
      "Found the latest cached dataset configuration 'default' at C:\\Users\\gnikh\\.cache\\huggingface\\datasets\\lukebarousse___data_jobs\\default\\0.0.0\\1d815e9ce232eb27db11939c44eb048fe6d2e9ab (last modified on Sat Jan 25 12:41:59 2025).\n"
     ]
    }
   ],
   "source": [
    "import pandas as pd\n",
    "from datasets import load_dataset\n",
    "import matplotlib.pyplot as plt \n",
    "\n",
    "dataframe = load_dataset('lukebarousse/data_jobs')\n",
    "\n",
    "df = dataframe['train'].to_pandas()\n",
    "\n",
    "df['job_posted_date'] = pd.to_datetime(df['job_posted_date'])\n",
    "\n",
    "import ast\n",
    "\n",
    "import seaborn as sns\n",
    "\n",
    "df['job_skills'] = df['job_skills'].apply(lambda x: ast.literal_eval(x) if pd.notna(x) else x)"
   ]
  },
  {
   "cell_type": "code",
   "execution_count": 2,
   "metadata": {},
   "outputs": [],
   "source": [
    "da_us = df[(df['job_title_short']=='Data Analyst') & (df['job_country']=='United States')].copy()"
   ]
  },
  {
   "cell_type": "code",
   "execution_count": 8,
   "metadata": {},
   "outputs": [
    {
     "data": {
      "text/html": [
       "<div>\n",
       "<style scoped>\n",
       "    .dataframe tbody tr th:only-of-type {\n",
       "        vertical-align: middle;\n",
       "    }\n",
       "\n",
       "    .dataframe tbody tr th {\n",
       "        vertical-align: top;\n",
       "    }\n",
       "\n",
       "    .dataframe thead th {\n",
       "        text-align: right;\n",
       "    }\n",
       "</style>\n",
       "<table border=\"1\" class=\"dataframe\">\n",
       "  <thead>\n",
       "    <tr style=\"text-align: right;\">\n",
       "      <th></th>\n",
       "      <th>count</th>\n",
       "      <th>median</th>\n",
       "      <th>percent</th>\n",
       "    </tr>\n",
       "    <tr>\n",
       "      <th>job_skills</th>\n",
       "      <th></th>\n",
       "      <th></th>\n",
       "      <th></th>\n",
       "    </tr>\n",
       "  </thead>\n",
       "  <tbody>\n",
       "    <tr>\n",
       "      <th>sql</th>\n",
       "      <td>2508</td>\n",
       "      <td>91000.00</td>\n",
       "      <td>57.655172</td>\n",
       "    </tr>\n",
       "    <tr>\n",
       "      <th>excel</th>\n",
       "      <td>1808</td>\n",
       "      <td>84392.00</td>\n",
       "      <td>41.563218</td>\n",
       "    </tr>\n",
       "    <tr>\n",
       "      <th>python</th>\n",
       "      <td>1431</td>\n",
       "      <td>97500.00</td>\n",
       "      <td>32.896552</td>\n",
       "    </tr>\n",
       "    <tr>\n",
       "      <th>tableau</th>\n",
       "      <td>1364</td>\n",
       "      <td>92875.00</td>\n",
       "      <td>31.356322</td>\n",
       "    </tr>\n",
       "    <tr>\n",
       "      <th>sas</th>\n",
       "      <td>926</td>\n",
       "      <td>90000.00</td>\n",
       "      <td>21.287356</td>\n",
       "    </tr>\n",
       "    <tr>\n",
       "      <th>r</th>\n",
       "      <td>893</td>\n",
       "      <td>92500.00</td>\n",
       "      <td>20.528736</td>\n",
       "    </tr>\n",
       "    <tr>\n",
       "      <th>power bi</th>\n",
       "      <td>838</td>\n",
       "      <td>90000.00</td>\n",
       "      <td>19.264368</td>\n",
       "    </tr>\n",
       "    <tr>\n",
       "      <th>powerpoint</th>\n",
       "      <td>462</td>\n",
       "      <td>85000.00</td>\n",
       "      <td>10.620690</td>\n",
       "    </tr>\n",
       "    <tr>\n",
       "      <th>word</th>\n",
       "      <td>461</td>\n",
       "      <td>81194.75</td>\n",
       "      <td>10.597701</td>\n",
       "    </tr>\n",
       "    <tr>\n",
       "      <th>sql server</th>\n",
       "      <td>286</td>\n",
       "      <td>92500.00</td>\n",
       "      <td>6.574713</td>\n",
       "    </tr>\n",
       "    <tr>\n",
       "      <th>oracle</th>\n",
       "      <td>274</td>\n",
       "      <td>96923.75</td>\n",
       "      <td>6.298851</td>\n",
       "    </tr>\n",
       "    <tr>\n",
       "      <th>go</th>\n",
       "      <td>224</td>\n",
       "      <td>90000.00</td>\n",
       "      <td>5.149425</td>\n",
       "    </tr>\n",
       "  </tbody>\n",
       "</table>\n",
       "</div>"
      ],
      "text/plain": [
       "            count    median    percent\n",
       "job_skills                            \n",
       "sql          2508  91000.00  57.655172\n",
       "excel        1808  84392.00  41.563218\n",
       "python       1431  97500.00  32.896552\n",
       "tableau      1364  92875.00  31.356322\n",
       "sas           926  90000.00  21.287356\n",
       "r             893  92500.00  20.528736\n",
       "power bi      838  90000.00  19.264368\n",
       "powerpoint    462  85000.00  10.620690\n",
       "word          461  81194.75  10.597701\n",
       "sql server    286  92500.00   6.574713\n",
       "oracle        274  96923.75   6.298851\n",
       "go            224  90000.00   5.149425"
      ]
     },
     "execution_count": 8,
     "metadata": {},
     "output_type": "execute_result"
    }
   ],
   "source": [
    "data = da_us.dropna(subset='salary_year_avg')\n",
    "\n",
    "data_ex = data.explode('job_skills')\n",
    "\n",
    "total_jobs = len(data)\n",
    "\n",
    "data_group = data_ex.groupby('job_skills')['salary_year_avg'].agg(['count', 'median']).sort_values(by='count', ascending=False)\n",
    "\n",
    "data_group['percent'] = data_group['count']/total_jobs * 100\n",
    "\n",
    "data_group = data_group[data_group['percent'] > 5]\n",
    "\n",
    "data_group"
   ]
  },
  {
   "cell_type": "code",
   "execution_count": 24,
   "metadata": {},
   "outputs": [],
   "source": [
    "from adjustText import adjust_text\n",
    "\n",
    "from matplotlib.ticker import PercentFormatter"
   ]
  },
  {
   "cell_type": "code",
   "execution_count": 33,
   "metadata": {},
   "outputs": [
    {
     "data": {
      "image/png": "[encoded data removed]",
      "text/plain": [
       "<Figure size 640x480 with 1 Axes>"
      ]
     },
     "metadata": {},
     "output_type": "display_data"
    }
   ],
   "source": [
    "data_group.plot(kind='scatter', x='percent', y='median')\n",
    "\n",
    "texts = []\n",
    "\n",
    "for i, txt in enumerate(data_group.index):\n",
    "    texts.append(plt.text(data_group['percent'].iloc[i], data_group['median'].iloc[i], txt))\n",
    "\n",
    "adjust_text(texts, arrowprops=dict(arrowstyle='->'))\n",
    "\n",
    "ax = plt.gca()\n",
    "ax.yaxis.set_major_formatter(plt.FuncFormatter(lambda y, pos: f'${int(y/1000)}k'))\n",
    "ax.xaxis.set_major_formatter(PercentFormatter(decimals=0))\n",
    "\n",
    "plt.ylabel('Median Salary')\n",
    "plt.xlabel('Percentage of skill requirement in Data Analyst jobs')\n",
    "\n",
    "plt.show()"
   ]
  }
 ],
 "metadata": {
  "kernelspec": {
   "display_name": "base",
   "language": "python",
   "name": "python3"
  },
  "language_info": {
   "codemirror_mode": {
    "name": "ipython",
    "version": 3
   },
   "file_extension": ".py",
   "mimetype": "text/x-python",
   "name": "python",
   "nbconvert_exporter": "python",
   "pygments_lexer": "ipython3",
   "version": "3.12.3"
  }
 },
 "nbformat": 4,
 "nbformat_minor": 2
}
